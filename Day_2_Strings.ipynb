{
 "cells": [
  {
   "cell_type": "markdown",
   "id": "058dfb38-45a4-44de-a677-9e69a07c1dd8",
   "metadata": {},
   "source": [
    "# Input Function"
   ]
  },
  {
   "cell_type": "code",
   "execution_count": 5,
   "id": "2876d642-c580-47e8-919b-d865ecb6051d",
   "metadata": {},
   "outputs": [
    {
     "data": {
      "text/plain": [
       "'Coding is fun!'"
      ]
     },
     "execution_count": 5,
     "metadata": {},
     "output_type": "execute_result"
    }
   ],
   "source": [
    "data = 'Coding is fun!'\n",
    "data"
   ]
  },
  {
   "cell_type": "code",
   "execution_count": 7,
   "id": "895513c8-47cd-4353-9f8d-6400f4319fa1",
   "metadata": {},
   "outputs": [
    {
     "name": "stdout",
     "output_type": "stream",
     "text": [
      "Coding is fun!\n"
     ]
    }
   ],
   "source": [
    "print(data)"
   ]
  },
  {
   "cell_type": "code",
   "execution_count": 9,
   "id": "9b84747d-3456-46ba-a430-d5a93de8b31c",
   "metadata": {},
   "outputs": [
    {
     "data": {
      "text/plain": [
       "str"
      ]
     },
     "execution_count": 9,
     "metadata": {},
     "output_type": "execute_result"
    }
   ],
   "source": [
    "type(data)"
   ]
  },
  {
   "cell_type": "code",
   "execution_count": 11,
   "id": "9c5780a4-598d-472f-aa87-78e24f629740",
   "metadata": {},
   "outputs": [
    {
     "name": "stdin",
     "output_type": "stream",
     "text": [
      " hello! this is Himel\n"
     ]
    }
   ],
   "source": [
    "data = input()"
   ]
  },
  {
   "cell_type": "code",
   "execution_count": 13,
   "id": "c52155c3-4ed8-418f-852a-010603544f45",
   "metadata": {},
   "outputs": [
    {
     "name": "stdout",
     "output_type": "stream",
     "text": [
      "hello! this is Himel\n"
     ]
    }
   ],
   "source": [
    "print(data)"
   ]
  },
  {
   "cell_type": "code",
   "execution_count": 15,
   "id": "1c84d79c-7a5e-47c2-b234-3c36cb0e0258",
   "metadata": {},
   "outputs": [
    {
     "data": {
      "text/plain": [
       "'hello! this is Himel'"
      ]
     },
     "execution_count": 15,
     "metadata": {},
     "output_type": "execute_result"
    }
   ],
   "source": [
    "data"
   ]
  },
  {
   "cell_type": "code",
   "execution_count": 1,
   "id": "ff8446e7-0207-4de6-a65e-f0cd45b6c1e3",
   "metadata": {},
   "outputs": [
    {
     "name": "stdin",
     "output_type": "stream",
     "text": [
      " 23\n",
      " 67\n"
     ]
    }
   ],
   "source": [
    "x = input()\n",
    "y = input()"
   ]
  },
  {
   "cell_type": "code",
   "execution_count": 2,
   "id": "15eae6b4-ec23-446f-8c3b-376ef038d5dd",
   "metadata": {},
   "outputs": [
    {
     "data": {
      "text/plain": [
       "'2367'"
      ]
     },
     "execution_count": 2,
     "metadata": {},
     "output_type": "execute_result"
    }
   ],
   "source": [
    "x + y "
   ]
  },
  {
   "cell_type": "code",
   "execution_count": 11,
   "id": "3c935ed0-af44-4134-a008-a9cd1c28372c",
   "metadata": {},
   "outputs": [
    {
     "data": {
      "text/plain": [
       "90"
      ]
     },
     "execution_count": 11,
     "metadata": {},
     "output_type": "execute_result"
    }
   ],
   "source": [
    "X = int(x) + int(y)\n",
    "X"
   ]
  },
  {
   "cell_type": "code",
   "execution_count": 13,
   "id": "4afa9795-40cf-4c22-9d07-e32fb72fc340",
   "metadata": {},
   "outputs": [
    {
     "data": {
      "text/plain": [
       "int"
      ]
     },
     "execution_count": 13,
     "metadata": {},
     "output_type": "execute_result"
    }
   ],
   "source": [
    "type(X)"
   ]
  },
  {
   "cell_type": "code",
   "execution_count": 15,
   "id": "f8599953-4862-4e39-920e-46f22038ec5f",
   "metadata": {},
   "outputs": [
    {
     "name": "stdin",
     "output_type": "stream",
     "text": [
      "Enter your first num:  23\n",
      "Enter your second num:  34\n"
     ]
    }
   ],
   "source": [
    "x = int(input('Enter your first num: '))\n",
    "y = int(input('Enter your second num: '))"
   ]
  },
  {
   "cell_type": "code",
   "execution_count": 17,
   "id": "a20d6ff3-bd19-42f7-8c86-2d56dd41c36f",
   "metadata": {},
   "outputs": [
    {
     "data": {
      "text/plain": [
       "57"
      ]
     },
     "execution_count": 17,
     "metadata": {},
     "output_type": "execute_result"
    }
   ],
   "source": [
    "xy = x + y\n",
    "xy"
   ]
  },
  {
   "cell_type": "code",
   "execution_count": 19,
   "id": "0b60538d-87d8-4690-9b3e-724b20e34a42",
   "metadata": {},
   "outputs": [
    {
     "name": "stdin",
     "output_type": "stream",
     "text": [
      "Enter the number:  23\n",
      "Enter the number:  23.90\n"
     ]
    }
   ],
   "source": [
    "x = int(input('Enter the number: '))\n",
    "y = float(input('Enter the number: '))"
   ]
  },
  {
   "cell_type": "code",
   "execution_count": 23,
   "id": "2b685b57-6712-4363-b495-761ca05f31ad",
   "metadata": {},
   "outputs": [
    {
     "data": {
      "text/plain": [
       "46.9"
      ]
     },
     "execution_count": 23,
     "metadata": {},
     "output_type": "execute_result"
    }
   ],
   "source": [
    "xy = x + y\n",
    "xy"
   ]
  },
  {
   "cell_type": "code",
   "execution_count": 25,
   "id": "a33f70b5-8fa1-47e4-bc4a-7f51dd1e53de",
   "metadata": {},
   "outputs": [],
   "source": [
    "me = 'Hello! This is meeeeeeeeeeeeeeeeeeeeeeeeeeee'"
   ]
  },
  {
   "cell_type": "code",
   "execution_count": 27,
   "id": "118ebd77-d011-41f7-9729-e1c38a7e72b2",
   "metadata": {},
   "outputs": [
    {
     "data": {
      "text/plain": [
       "str"
      ]
     },
     "execution_count": 27,
     "metadata": {},
     "output_type": "execute_result"
    }
   ],
   "source": [
    "type(me)"
   ]
  },
  {
   "cell_type": "code",
   "execution_count": 29,
   "id": "a2f7f5d1-298d-4990-b766-ffa8c35fd95c",
   "metadata": {},
   "outputs": [
    {
     "data": {
      "text/plain": [
       "44"
      ]
     },
     "execution_count": 29,
     "metadata": {},
     "output_type": "execute_result"
    }
   ],
   "source": [
    "len(me)"
   ]
  },
  {
   "cell_type": "code",
   "execution_count": 31,
   "id": "2a3272da-0ac9-4714-b6bf-7ed2c539f6ec",
   "metadata": {},
   "outputs": [
    {
     "data": {
      "text/plain": [
       "85"
      ]
     },
     "execution_count": 31,
     "metadata": {},
     "output_type": "execute_result"
    }
   ],
   "source": [
    "import sys\n",
    "sys.getsizeof(me)"
   ]
  },
  {
   "cell_type": "code",
   "execution_count": 33,
   "id": "366d8d82-4473-499e-9b7c-6414b8dfdab8",
   "metadata": {},
   "outputs": [
    {
     "data": {
      "text/plain": [
       "29"
      ]
     },
     "execution_count": 33,
     "metadata": {},
     "output_type": "execute_result"
    }
   ],
   "source": [
    "me.count('e')"
   ]
  },
  {
   "cell_type": "code",
   "execution_count": 35,
   "id": "56c3f53a-e968-4dd1-9dc7-aaef9e7a0517",
   "metadata": {},
   "outputs": [],
   "source": [
    "sub = 'This is'"
   ]
  },
  {
   "cell_type": "code",
   "execution_count": 37,
   "id": "69035d20-ae08-4a53-8ade-bea6579ed28c",
   "metadata": {},
   "outputs": [
    {
     "data": {
      "text/plain": [
       "1"
      ]
     },
     "execution_count": 37,
     "metadata": {},
     "output_type": "execute_result"
    }
   ],
   "source": [
    "me.count(sub)"
   ]
  },
  {
   "cell_type": "markdown",
   "id": "3f22c779-9d8d-414b-bb2f-c603a04940de",
   "metadata": {},
   "source": [
    "# Python String Method"
   ]
  },
  {
   "cell_type": "code",
   "execution_count": 40,
   "id": "e1f3d33c-3c3d-4598-8bbd-ab8d7fd5d874",
   "metadata": {},
   "outputs": [],
   "source": [
    "test = 'Shahariar Nafiz Himel'"
   ]
  },
  {
   "cell_type": "code",
   "execution_count": 56,
   "id": "3970ea55-26b8-4c5b-b03e-da9cde86f0d1",
   "metadata": {},
   "outputs": [
    {
     "data": {
      "text/plain": [
       "14"
      ]
     },
     "execution_count": 56,
     "metadata": {},
     "output_type": "execute_result"
    }
   ],
   "source": [
    "test.find('z')   # find values from string"
   ]
  },
  {
   "cell_type": "code",
   "execution_count": 48,
   "id": "2b50943d-8433-47dc-9c7d-e6868aaee54a",
   "metadata": {},
   "outputs": [
    {
     "data": {
      "text/plain": [
       "2"
      ]
     },
     "execution_count": 48,
     "metadata": {},
     "output_type": "execute_result"
    }
   ],
   "source": [
    "test.find('a')"
   ]
  },
  {
   "cell_type": "code",
   "execution_count": 50,
   "id": "44529554-6db6-4871-9383-8faeafb31f3f",
   "metadata": {},
   "outputs": [
    {
     "data": {
      "text/plain": [
       "6"
      ]
     },
     "execution_count": 50,
     "metadata": {},
     "output_type": "execute_result"
    }
   ],
   "source": [
    "test.find('i')"
   ]
  },
  {
   "cell_type": "code",
   "execution_count": 52,
   "id": "1a910382-a1d6-4a1c-9df9-e4d680e2ce7c",
   "metadata": {},
   "outputs": [
    {
     "data": {
      "text/plain": [
       "-1"
      ]
     },
     "execution_count": 52,
     "metadata": {},
     "output_type": "execute_result"
    }
   ],
   "source": [
    "test.find('z', 1, 12)"
   ]
  },
  {
   "cell_type": "code",
   "execution_count": 54,
   "id": "a7c88d28-b0e5-4783-a132-09c243d4c37f",
   "metadata": {},
   "outputs": [
    {
     "data": {
      "text/plain": [
       "14"
      ]
     },
     "execution_count": 54,
     "metadata": {},
     "output_type": "execute_result"
    }
   ],
   "source": [
    "test.find('z', 0, 15)"
   ]
  },
  {
   "cell_type": "code",
   "execution_count": 58,
   "id": "331c9984-0d0a-4dc2-a589-e5a2cee2f2a6",
   "metadata": {},
   "outputs": [
    {
     "data": {
      "text/plain": [
       "17"
      ]
     },
     "execution_count": 58,
     "metadata": {},
     "output_type": "execute_result"
    }
   ],
   "source": [
    "test.find('i', 15, 20)"
   ]
  },
  {
   "cell_type": "code",
   "execution_count": 60,
   "id": "e8eecc6c-e28d-402f-8266-213817ea10fc",
   "metadata": {},
   "outputs": [
    {
     "data": {
      "text/plain": [
       "17"
      ]
     },
     "execution_count": 60,
     "metadata": {},
     "output_type": "execute_result"
    }
   ],
   "source": [
    "test.index('i', 15, 20)"
   ]
  },
  {
   "cell_type": "code",
   "execution_count": 62,
   "id": "7d9809c3-d9c4-48f0-8f9d-63912e125364",
   "metadata": {},
   "outputs": [
    {
     "data": {
      "text/plain": [
       "'Shahariar Nafiz Himel'"
      ]
     },
     "execution_count": 62,
     "metadata": {},
     "output_type": "execute_result"
    }
   ],
   "source": [
    "test"
   ]
  },
  {
   "cell_type": "code",
   "execution_count": 66,
   "id": "c56e0108-2360-4e5b-a9d2-bfe4afbda22e",
   "metadata": {},
   "outputs": [
    {
     "data": {
      "text/plain": [
       "'shahariar nafiz himel'"
      ]
     },
     "execution_count": 66,
     "metadata": {},
     "output_type": "execute_result"
    }
   ],
   "source": [
    "test.lower()   # convert all char into lower case"
   ]
  },
  {
   "cell_type": "code",
   "execution_count": 70,
   "id": "c4b70411-7f9d-423a-a411-5e9b236331e6",
   "metadata": {},
   "outputs": [
    {
     "data": {
      "text/plain": [
       "'SHAHARIAR NAFIZ HIMEL'"
      ]
     },
     "execution_count": 70,
     "metadata": {},
     "output_type": "execute_result"
    }
   ],
   "source": [
    "test.upper()   # convert all char into upper case"
   ]
  },
  {
   "cell_type": "code",
   "execution_count": 74,
   "id": "b84db36e-6320-4b6c-9dae-f4357395eda3",
   "metadata": {},
   "outputs": [
    {
     "data": {
      "text/plain": [
       "'shahariar nafiz himel'"
      ]
     },
     "execution_count": 74,
     "metadata": {},
     "output_type": "execute_result"
    }
   ],
   "source": [
    "test.casefold() # convert all char into lower case"
   ]
  },
  {
   "cell_type": "code",
   "execution_count": 76,
   "id": "1a790224-f0a7-414b-bc4a-88b6d6659e33",
   "metadata": {},
   "outputs": [
    {
     "data": {
      "text/plain": [
       "'Shahariar Nafiz Himel'"
      ]
     },
     "execution_count": 76,
     "metadata": {},
     "output_type": "execute_result"
    }
   ],
   "source": [
    "test"
   ]
  },
  {
   "cell_type": "code",
   "execution_count": 78,
   "id": "c8bd16e7-1322-4359-a2d3-6623edf475a6",
   "metadata": {},
   "outputs": [
    {
     "data": {
      "text/plain": [
       "'Shahariar nafiz himel'"
      ]
     },
     "execution_count": 78,
     "metadata": {},
     "output_type": "execute_result"
    }
   ],
   "source": [
    "test.capitalize()"
   ]
  },
  {
   "cell_type": "code",
   "execution_count": 80,
   "id": "1f2c0d91-958d-46a2-9b00-eaca5ce3a6f6",
   "metadata": {},
   "outputs": [
    {
     "data": {
      "text/plain": [
       "'sHAHARIAR nAFIZ hIMEL'"
      ]
     },
     "execution_count": 80,
     "metadata": {},
     "output_type": "execute_result"
    }
   ],
   "source": [
    "test.swapcase()"
   ]
  },
  {
   "cell_type": "code",
   "execution_count": 86,
   "id": "83b21e69-89f4-4cdd-97b8-7546d4bd783c",
   "metadata": {},
   "outputs": [
    {
     "data": {
      "text/plain": [
       "'daTa Science is FuNn'"
      ]
     },
     "execution_count": 86,
     "metadata": {},
     "output_type": "execute_result"
    }
   ],
   "source": [
    "strhub = 'daTa Science is FuNn'\n",
    "strhub"
   ]
  },
  {
   "cell_type": "code",
   "execution_count": 90,
   "id": "20005ab3-597d-4e30-9112-c1de19a0d044",
   "metadata": {},
   "outputs": [
    {
     "data": {
      "text/plain": [
       "'Data Science Is Funn'"
      ]
     },
     "execution_count": 90,
     "metadata": {},
     "output_type": "execute_result"
    }
   ],
   "source": [
    "strhub.title()"
   ]
  },
  {
   "cell_type": "code",
   "execution_count": 92,
   "id": "398789a8-eb7a-41bf-8612-51a508a3299e",
   "metadata": {},
   "outputs": [
    {
     "data": {
      "text/plain": [
       "False"
      ]
     },
     "execution_count": 92,
     "metadata": {},
     "output_type": "execute_result"
    }
   ],
   "source": [
    "strhub.islower()"
   ]
  },
  {
   "cell_type": "code",
   "execution_count": 94,
   "id": "89bfbefd-d9e8-4d21-986e-cb451dd3bbcd",
   "metadata": {},
   "outputs": [
    {
     "data": {
      "text/plain": [
       "False"
      ]
     },
     "execution_count": 94,
     "metadata": {},
     "output_type": "execute_result"
    }
   ],
   "source": [
    "strhub.isupper()"
   ]
  },
  {
   "cell_type": "code",
   "execution_count": 96,
   "id": "3df7285c-57c6-4af5-9aa1-89d13451c718",
   "metadata": {},
   "outputs": [
    {
     "data": {
      "text/plain": [
       "' SHAHARIAR NAFIZ'"
      ]
     },
     "execution_count": 96,
     "metadata": {},
     "output_type": "execute_result"
    }
   ],
   "source": [
    "x = ' SHAHARIAR NAFIZ'\n",
    "x"
   ]
  },
  {
   "cell_type": "code",
   "execution_count": 98,
   "id": "b9bd44cb-3ccf-4c9d-aea8-5b88b81aff2b",
   "metadata": {},
   "outputs": [
    {
     "data": {
      "text/plain": [
       "'shahariar nafiz'"
      ]
     },
     "execution_count": 98,
     "metadata": {},
     "output_type": "execute_result"
    }
   ],
   "source": [
    "y = 'shahariar nafiz'\n",
    "y"
   ]
  },
  {
   "cell_type": "code",
   "execution_count": 100,
   "id": "26de8019-7d54-4317-8c5f-a4cd62ba5f94",
   "metadata": {},
   "outputs": [
    {
     "data": {
      "text/plain": [
       "False"
      ]
     },
     "execution_count": 100,
     "metadata": {},
     "output_type": "execute_result"
    }
   ],
   "source": [
    "x.islower()"
   ]
  },
  {
   "cell_type": "code",
   "execution_count": 102,
   "id": "0f2326ce-25f9-492e-92d5-85a3b2b173b9",
   "metadata": {},
   "outputs": [
    {
     "data": {
      "text/plain": [
       "True"
      ]
     },
     "execution_count": 102,
     "metadata": {},
     "output_type": "execute_result"
    }
   ],
   "source": [
    "x.isupper()"
   ]
  },
  {
   "cell_type": "code",
   "execution_count": 104,
   "id": "6af9e536-fe5c-403f-bab6-f685d6f713e8",
   "metadata": {},
   "outputs": [
    {
     "data": {
      "text/plain": [
       "True"
      ]
     },
     "execution_count": 104,
     "metadata": {},
     "output_type": "execute_result"
    }
   ],
   "source": [
    "y.islower()"
   ]
  },
  {
   "cell_type": "code",
   "execution_count": 118,
   "id": "0ff5e239-dabd-481b-ba3e-96843b7ed38b",
   "metadata": {},
   "outputs": [
    {
     "data": {
      "text/plain": [
       "False"
      ]
     },
     "execution_count": 118,
     "metadata": {},
     "output_type": "execute_result"
    }
   ],
   "source": [
    "y.isdigit()"
   ]
  },
  {
   "cell_type": "code",
   "execution_count": 120,
   "id": "d68f2eae-d4ee-4e88-aa1b-874bfec1fea4",
   "metadata": {},
   "outputs": [
    {
     "data": {
      "text/plain": [
       "b'shahariar nafiz'"
      ]
     },
     "execution_count": 120,
     "metadata": {},
     "output_type": "execute_result"
    }
   ],
   "source": [
    "y.encode()"
   ]
  },
  {
   "cell_type": "code",
   "execution_count": 122,
   "id": "c86b22bc-fc69-4aa1-a378-0cd1390eb576",
   "metadata": {},
   "outputs": [
    {
     "data": {
      "text/plain": [
       "bytes"
      ]
     },
     "execution_count": 122,
     "metadata": {},
     "output_type": "execute_result"
    }
   ],
   "source": [
    "type(y.encode())"
   ]
  },
  {
   "cell_type": "code",
   "execution_count": 124,
   "id": "941613d9-e5cf-4fab-9a37-5e380061f7aa",
   "metadata": {},
   "outputs": [
    {
     "data": {
      "text/plain": [
       "'shahariar nafiz'"
      ]
     },
     "execution_count": 124,
     "metadata": {},
     "output_type": "execute_result"
    }
   ],
   "source": [
    "y"
   ]
  },
  {
   "cell_type": "code",
   "execution_count": 126,
   "id": "f0d0f7b8-38b9-49b5-8f9c-4d7ee3f62816",
   "metadata": {},
   "outputs": [
    {
     "data": {
      "text/plain": [
       "'daTa Science is FuNn'"
      ]
     },
     "execution_count": 126,
     "metadata": {},
     "output_type": "execute_result"
    }
   ],
   "source": [
    "strhub"
   ]
  },
  {
   "cell_type": "code",
   "execution_count": 128,
   "id": "5a74528b-be5c-4259-8b28-a0618458cb69",
   "metadata": {},
   "outputs": [
    {
     "data": {
      "text/plain": [
       "['daTa', 'Science', 'is', 'FuNn']"
      ]
     },
     "execution_count": 128,
     "metadata": {},
     "output_type": "execute_result"
    }
   ],
   "source": [
    "strhub.split()"
   ]
  },
  {
   "cell_type": "code",
   "execution_count": 130,
   "id": "0719e234-bdab-4b88-8872-9c12607820f8",
   "metadata": {},
   "outputs": [
    {
     "data": {
      "text/plain": [
       "'FuNn'"
      ]
     },
     "execution_count": 130,
     "metadata": {},
     "output_type": "execute_result"
    }
   ],
   "source": [
    "strhub.split()[3]"
   ]
  },
  {
   "cell_type": "code",
   "execution_count": 132,
   "id": "cdc1dd25-2a02-4473-bc77-8c42abc78db1",
   "metadata": {},
   "outputs": [
    {
     "data": {
      "text/plain": [
       "'                                        daTa Science is FuNn                                        '"
      ]
     },
     "execution_count": 132,
     "metadata": {},
     "output_type": "execute_result"
    }
   ],
   "source": [
    "strhub.center(100)"
   ]
  },
  {
   "cell_type": "code",
   "execution_count": 134,
   "id": "15e3cea6-feeb-4047-b5d4-0b6df965c86f",
   "metadata": {},
   "outputs": [
    {
     "data": {
      "text/plain": [
       "'daTa Science is FuNn'"
      ]
     },
     "execution_count": 134,
     "metadata": {},
     "output_type": "execute_result"
    }
   ],
   "source": [
    "strhub"
   ]
  },
  {
   "cell_type": "code",
   "execution_count": 136,
   "id": "f2680674-98d1-4797-99da-96aedd69c8ae",
   "metadata": {},
   "outputs": [
    {
     "data": {
      "text/plain": [
       "'AI Science is FuNn'"
      ]
     },
     "execution_count": 136,
     "metadata": {},
     "output_type": "execute_result"
    }
   ],
   "source": [
    "strhub.replace('daTa','AI')"
   ]
  },
  {
   "cell_type": "code",
   "execution_count": 150,
   "id": "b5104e1d-b780-42a1-a608-d55ef97236c5",
   "metadata": {},
   "outputs": [
    {
     "name": "stdout",
     "output_type": "stream",
     "text": [
      "I have 200 numbers\n"
     ]
    }
   ],
   "source": [
    "x = 10\n",
    "y = 20\n",
    "z = x*y\n",
    "\n",
    "print('I have',z , 'numbers')"
   ]
  },
  {
   "cell_type": "code",
   "execution_count": 158,
   "id": "c09c9179-c10b-4762-aff1-f4e0d818e7eb",
   "metadata": {},
   "outputs": [
    {
     "name": "stdout",
     "output_type": "stream",
     "text": [
      "I have 200 numbers\n"
     ]
    }
   ],
   "source": [
    "print('I have {} numbers'.format(z))"
   ]
  },
  {
   "cell_type": "code",
   "execution_count": null,
   "id": "9bdec8e4-2e08-4ba0-9c33-6bbbaaefc8ec",
   "metadata": {},
   "outputs": [],
   "source": []
  }
 ],
 "metadata": {
  "kernelspec": {
   "display_name": "Python [conda env:base] *",
   "language": "python",
   "name": "conda-base-py"
  },
  "language_info": {
   "codemirror_mode": {
    "name": "ipython",
    "version": 3
   },
   "file_extension": ".py",
   "mimetype": "text/x-python",
   "name": "python",
   "nbconvert_exporter": "python",
   "pygments_lexer": "ipython3",
   "version": "3.12.4"
  }
 },
 "nbformat": 4,
 "nbformat_minor": 5
}
