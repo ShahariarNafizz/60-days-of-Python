{
 "cells": [
  {
   "cell_type": "markdown",
   "id": "5e9af4dc-a250-49f1-b366-7950a11ab95f",
   "metadata": {},
   "source": [
    "## Basic Notebook"
   ]
  },
  {
   "cell_type": "code",
   "execution_count": null,
   "id": "ba0901e1-c70e-4da5-bca6-75926114cef9",
   "metadata": {},
   "outputs": [],
   "source": [
    "'Hello! This is Himel'"
   ]
  },
  {
   "cell_type": "code",
   "execution_count": 6,
   "id": "cbe34a64-6f53-47fd-a16e-9a4f2e70a8bf",
   "metadata": {},
   "outputs": [
    {
     "name": "stdout",
     "output_type": "stream",
     "text": [
      "Hello! Welcome to Python World\n"
     ]
    }
   ],
   "source": [
    "print('Hello! Welcome to Python World') "
   ]
  },
  {
   "cell_type": "code",
   "execution_count": 8,
   "id": "8a3a1caf-1145-4479-9927-5837d0b1b4ec",
   "metadata": {},
   "outputs": [
    {
     "name": "stdout",
     "output_type": "stream",
     "text": [
      "Hello! Code is Fun!\n"
     ]
    }
   ],
   "source": [
    "print('Hello!', 'Code is Fun!')"
   ]
  },
  {
   "cell_type": "code",
   "execution_count": 16,
   "id": "f8d0efe1-37cb-4385-995f-29ff773caec3",
   "metadata": {},
   "outputs": [
    {
     "name": "stdout",
     "output_type": "stream",
     "text": [
      "Hello!#Code is Fun\n"
     ]
    }
   ],
   "source": [
    "print('Hello!','Code is Fun', sep='#')"
   ]
  },
  {
   "cell_type": "code",
   "execution_count": 14,
   "id": "579eebef-fcb7-4957-9ef1-460294c9e8a1",
   "metadata": {},
   "outputs": [
    {
     "name": "stdout",
     "output_type": "stream",
     "text": [
      "Hello! @ Code is really Fun\n"
     ]
    }
   ],
   "source": [
    "print('Hello!', 'Code is really Fun', sep=' @ ')"
   ]
  },
  {
   "cell_type": "code",
   "execution_count": 18,
   "id": "42f58861-0d98-4a91-b105-42293b4728b6",
   "metadata": {},
   "outputs": [
    {
     "name": "stdout",
     "output_type": "stream",
     "text": [
      "hello! @ Welcome to Himel Universe | "
     ]
    }
   ],
   "source": [
    "print('hello!', 'Welcome to Himel Universe', sep=' @ ', end=' | ') ## print(*args, sep=' ', end='\\n', file=None, flush=False)"
   ]
  },
  {
   "cell_type": "markdown",
   "id": "3c9c45ac-6a74-45a8-a711-fdfa806b7c1c",
   "metadata": {},
   "source": [
    "## Variable in Python"
   ]
  },
  {
   "cell_type": "code",
   "execution_count": 33,
   "id": "72b51604-7e3c-4d29-9246-610a9bf57c42",
   "metadata": {},
   "outputs": [],
   "source": [
    "var = 'This is Himel'"
   ]
  },
  {
   "cell_type": "code",
   "execution_count": 35,
   "id": "00b19144-8630-4b26-999a-f9cd396797be",
   "metadata": {},
   "outputs": [
    {
     "name": "stdout",
     "output_type": "stream",
     "text": [
      "This is Himel\n"
     ]
    }
   ],
   "source": [
    "print(var)"
   ]
  },
  {
   "cell_type": "code",
   "execution_count": 49,
   "id": "fbbbd119-4fea-420c-ac8f-383560f6f2de",
   "metadata": {},
   "outputs": [
    {
     "data": {
      "text/plain": [
       "'This is Himel'"
      ]
     },
     "execution_count": 49,
     "metadata": {},
     "output_type": "execute_result"
    }
   ],
   "source": [
    "var"
   ]
  },
  {
   "cell_type": "code",
   "execution_count": 39,
   "id": "3c6fccc9-afbb-40e1-8fce-7300e1dce93d",
   "metadata": {},
   "outputs": [
    {
     "name": "stdout",
     "output_type": "stream",
     "text": [
      "My sentence is This is Himel\n"
     ]
    }
   ],
   "source": [
    "print('My sentence is '+var)"
   ]
  },
  {
   "cell_type": "code",
   "execution_count": 37,
   "id": "7c474ef9-d983-4604-ab34-7d136aea83d2",
   "metadata": {},
   "outputs": [
    {
     "name": "stdout",
     "output_type": "stream",
     "text": [
      "var\n"
     ]
    }
   ],
   "source": [
    "print('var')"
   ]
  },
  {
   "cell_type": "code",
   "execution_count": 41,
   "id": "b989b047-a133-40d1-a897-a3ea20b66ef9",
   "metadata": {},
   "outputs": [
    {
     "data": {
      "text/plain": [
       "1487220416624"
      ]
     },
     "execution_count": 41,
     "metadata": {},
     "output_type": "execute_result"
    }
   ],
   "source": [
    "id(var)"
   ]
  },
  {
   "cell_type": "code",
   "execution_count": 43,
   "id": "d2784466-6b8e-40e6-b3c4-9c0bfeb1af13",
   "metadata": {},
   "outputs": [],
   "source": [
    "import sys"
   ]
  },
  {
   "cell_type": "code",
   "execution_count": 45,
   "id": "03c9dfba-0f64-46bf-bd06-89778543290c",
   "metadata": {},
   "outputs": [
    {
     "data": {
      "text/plain": [
       "54"
      ]
     },
     "execution_count": 45,
     "metadata": {},
     "output_type": "execute_result"
    }
   ],
   "source": [
    "sys.getsizeof(var)"
   ]
  },
  {
   "cell_type": "code",
   "execution_count": 75,
   "id": "fc9b4cb0-23d8-43e7-9ef0-91f95000b18d",
   "metadata": {},
   "outputs": [
    {
     "data": {
      "text/plain": [
       "100"
      ]
     },
     "execution_count": 75,
     "metadata": {},
     "output_type": "execute_result"
    }
   ],
   "source": [
    "x = 100   # efficiency of Python >>\n",
    "x"
   ]
  },
  {
   "cell_type": "code",
   "execution_count": 51,
   "id": "39054d48-532e-4fc0-81dd-57c55414768d",
   "metadata": {},
   "outputs": [
    {
     "data": {
      "text/plain": [
       "100"
      ]
     },
     "execution_count": 51,
     "metadata": {},
     "output_type": "execute_result"
    }
   ],
   "source": [
    "y = 100\n",
    "y"
   ]
  },
  {
   "cell_type": "code",
   "execution_count": 57,
   "id": "c9994289-852d-456e-8e3b-1a1b291b6ea8",
   "metadata": {},
   "outputs": [
    {
     "data": {
      "text/plain": [
       "140703208523288"
      ]
     },
     "execution_count": 57,
     "metadata": {},
     "output_type": "execute_result"
    }
   ],
   "source": [
    "id(x)"
   ]
  },
  {
   "cell_type": "code",
   "execution_count": 59,
   "id": "4b8218ce-6db5-4b54-803d-9eb14283883e",
   "metadata": {},
   "outputs": [
    {
     "data": {
      "text/plain": [
       "140703208523288"
      ]
     },
     "execution_count": 59,
     "metadata": {},
     "output_type": "execute_result"
    }
   ],
   "source": [
    "id(y)"
   ]
  },
  {
   "cell_type": "code",
   "execution_count": 73,
   "id": "f420a758-9529-4002-91b8-c21930f2eeb5",
   "metadata": {},
   "outputs": [
    {
     "data": {
      "text/plain": [
       "1000"
      ]
     },
     "execution_count": 73,
     "metadata": {},
     "output_type": "execute_result"
    }
   ],
   "source": [
    "x = 1000  # work only for 3 digits\n",
    "x"
   ]
  },
  {
   "cell_type": "code",
   "execution_count": 67,
   "id": "901f932b-8357-47f5-9ee5-6db695276e78",
   "metadata": {},
   "outputs": [
    {
     "data": {
      "text/plain": [
       "1000"
      ]
     },
     "execution_count": 67,
     "metadata": {},
     "output_type": "execute_result"
    }
   ],
   "source": [
    "y = 1000\n",
    "y"
   ]
  },
  {
   "cell_type": "code",
   "execution_count": 69,
   "id": "36a90723-168c-4533-a1a8-81db21e09be0",
   "metadata": {},
   "outputs": [
    {
     "data": {
      "text/plain": [
       "1487202154800"
      ]
     },
     "execution_count": 69,
     "metadata": {},
     "output_type": "execute_result"
    }
   ],
   "source": [
    "id(x)"
   ]
  },
  {
   "cell_type": "code",
   "execution_count": 71,
   "id": "ba1dec25-eb12-474e-bc52-f99913a2f98b",
   "metadata": {},
   "outputs": [
    {
     "data": {
      "text/plain": [
       "1487202153808"
      ]
     },
     "execution_count": 71,
     "metadata": {},
     "output_type": "execute_result"
    }
   ],
   "source": [
    "id(y)"
   ]
  },
  {
   "cell_type": "code",
   "execution_count": 79,
   "id": "14a4a409-54ff-49fe-aff1-17c42334a510",
   "metadata": {},
   "outputs": [
    {
     "data": {
      "text/plain": [
       "8"
      ]
     },
     "execution_count": 79,
     "metadata": {},
     "output_type": "execute_result"
    }
   ],
   "source": [
    "10 - 2"
   ]
  },
  {
   "cell_type": "code",
   "execution_count": 81,
   "id": "f1ef2496-e642-44e3-a97b-d4eaa5ca8079",
   "metadata": {},
   "outputs": [
    {
     "data": {
      "text/plain": [
       "100"
      ]
     },
     "execution_count": 81,
     "metadata": {},
     "output_type": "execute_result"
    }
   ],
   "source": [
    "var_2 = 100\n",
    "var_2"
   ]
  },
  {
   "cell_type": "code",
   "execution_count": 86,
   "id": "29ecc865-19fa-4241-8773-16c5e40c81d8",
   "metadata": {},
   "outputs": [],
   "source": [
    "x,y,z = 39, 323, 829"
   ]
  },
  {
   "cell_type": "code",
   "execution_count": 94,
   "id": "6a778763-429e-4fab-80dd-d0e26c85e022",
   "metadata": {},
   "outputs": [
    {
     "data": {
      "text/plain": [
       "323"
      ]
     },
     "execution_count": 94,
     "metadata": {},
     "output_type": "execute_result"
    }
   ],
   "source": [
    "y "
   ]
  },
  {
   "cell_type": "code",
   "execution_count": 92,
   "id": "1844c7f6-b9da-40d5-8d2f-97848b2a3a43",
   "metadata": {},
   "outputs": [
    {
     "data": {
      "text/plain": [
       "1191"
      ]
     },
     "execution_count": 92,
     "metadata": {},
     "output_type": "execute_result"
    }
   ],
   "source": [
    "x + y + z"
   ]
  },
  {
   "cell_type": "code",
   "execution_count": 117,
   "id": "2c37ee70-2f41-4721-905d-6c566ef97299",
   "metadata": {},
   "outputs": [],
   "source": [
    "VARSITYID = 29462\n",
    "varsity_id = 29462  # snake case\n",
    "varsityID = 29462   # camel case\n",
    "VarsityID = 29462   # Pascal case"
   ]
  },
  {
   "cell_type": "code",
   "execution_count": 119,
   "id": "96576e76-cdc6-4b7a-aca5-384d1f993405",
   "metadata": {},
   "outputs": [
    {
     "data": {
      "text/plain": [
       "29462"
      ]
     },
     "execution_count": 119,
     "metadata": {},
     "output_type": "execute_result"
    }
   ],
   "source": [
    "varsity_id"
   ]
  },
  {
   "cell_type": "code",
   "execution_count": 121,
   "id": "75138ae5-c03b-4b07-a302-0996dd45b540",
   "metadata": {},
   "outputs": [
    {
     "data": {
      "text/plain": [
       "29462"
      ]
     },
     "execution_count": 121,
     "metadata": {},
     "output_type": "execute_result"
    }
   ],
   "source": [
    "varsityID"
   ]
  },
  {
   "cell_type": "code",
   "execution_count": 123,
   "id": "618a41ca-02fe-4482-9b9c-bfc4b101e7ab",
   "metadata": {},
   "outputs": [
    {
     "data": {
      "text/plain": [
       "29462"
      ]
     },
     "execution_count": 123,
     "metadata": {},
     "output_type": "execute_result"
    }
   ],
   "source": [
    "VarsityID"
   ]
  },
  {
   "cell_type": "markdown",
   "id": "39a4c8ef-4a5b-4647-9e5d-bd0325d99493",
   "metadata": {},
   "source": [
    "## Local vs Global"
   ]
  },
  {
   "cell_type": "code",
   "execution_count": 132,
   "id": "8dd13743-8d58-4e6f-b652-57808939ba7b",
   "metadata": {},
   "outputs": [
    {
     "name": "stdout",
     "output_type": "stream",
     "text": [
      "My number is:  2000\n"
     ]
    }
   ],
   "source": [
    "x = 2000    # global\n",
    "def func1():\n",
    "    print('My number is: ',x)\n",
    "func1()"
   ]
  },
  {
   "cell_type": "code",
   "execution_count": 134,
   "id": "6fbbd3c6-12d0-4a5d-a441-835b5cb0c7e3",
   "metadata": {},
   "outputs": [
    {
     "name": "stdout",
     "output_type": "stream",
     "text": [
      "My number is:  200\n"
     ]
    }
   ],
   "source": [
    "def func2():\n",
    "    x= 200     # local\n",
    "    print('My number is: ', x)\n",
    "func2()"
   ]
  },
  {
   "cell_type": "code",
   "execution_count": 138,
   "id": "298dfb6f-1120-4c6b-982d-4edf6d2aeab1",
   "metadata": {},
   "outputs": [
    {
     "name": "stdout",
     "output_type": "stream",
     "text": [
      "My num is:  200\n"
     ]
    }
   ],
   "source": [
    "x = 1000\n",
    "def func1():\n",
    "    x= 200     # local is more powerful than global at this point\n",
    "    print('My num is: ', x)\n",
    "func1()"
   ]
  },
  {
   "cell_type": "code",
   "execution_count": 142,
   "id": "17004837-8b4a-4784-b685-c1e9da954973",
   "metadata": {},
   "outputs": [
    {
     "name": "stdout",
     "output_type": "stream",
     "text": [
      "My num is:  200\n",
      "My num is:  1000\n"
     ]
    }
   ],
   "source": [
    "x = 1000\n",
    "def func1():\n",
    "    x= 200     # local is more powerful than global at this point\n",
    "    print('My num is: ', x)\n",
    "func1()\n",
    "print('My num is: ', x)  # outside the function"
   ]
  },
  {
   "cell_type": "code",
   "execution_count": 150,
   "id": "c3902409-b58d-400f-be45-5405319efcf4",
   "metadata": {},
   "outputs": [
    {
     "name": "stdout",
     "output_type": "stream",
     "text": [
      "The number is:  300\n",
      "The number is:  300\n"
     ]
    }
   ],
   "source": [
    "def func23():\n",
    "    global x\n",
    "    x = 300\n",
    "    print('The number is: ', x)\n",
    "func23()\n",
    "print('The number is: ', x)"
   ]
  },
  {
   "cell_type": "code",
   "execution_count": null,
   "id": "68c53744-4384-494c-aa9a-db299f408f86",
   "metadata": {},
   "outputs": [],
   "source": []
  }
 ],
 "metadata": {
  "kernelspec": {
   "display_name": "Python [conda env:base] *",
   "language": "python",
   "name": "conda-base-py"
  },
  "language_info": {
   "codemirror_mode": {
    "name": "ipython",
    "version": 3
   },
   "file_extension": ".py",
   "mimetype": "text/x-python",
   "name": "python",
   "nbconvert_exporter": "python",
   "pygments_lexer": "ipython3",
   "version": "3.12.4"
  }
 },
 "nbformat": 4,
 "nbformat_minor": 5
}
